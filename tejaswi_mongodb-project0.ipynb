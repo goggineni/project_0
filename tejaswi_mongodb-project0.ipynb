{
 "cells": [
  {
   "cell_type": "code",
   "execution_count": 1,
   "id": "9d6bfb7c",
   "metadata": {},
   "outputs": [],
   "source": [
    "# Connection to MongoDB instance\n",
    "import pymongo\n",
    "from pymongo import MongoClient"
   ]
  },
  {
   "cell_type": "code",
   "execution_count": 2,
   "id": "628e446a",
   "metadata": {},
   "outputs": [],
   "source": [
    "# Estabilishing a connection\n",
    "client = pymongo.MongoClient(\"localhost\",27017)"
   ]
  },
  {
   "cell_type": "code",
   "execution_count": 3,
   "id": "c7147da2",
   "metadata": {},
   "outputs": [],
   "source": [
    "# Creating a database\n",
    "database = client[\"Project_0\"]"
   ]
  },
  {
   "cell_type": "code",
   "execution_count": 4,
   "id": "f54484e4",
   "metadata": {},
   "outputs": [],
   "source": [
    "# Creating a collection\n",
    "collection = database[\"Meal Info\"]"
   ]
  },
  {
   "cell_type": "code",
   "execution_count": 5,
   "id": "a06b4daf",
   "metadata": {},
   "outputs": [],
   "source": [
    "# File data\n",
    "docs = [{\"meal_id\":1885,\"category\":\"Beverages\",\"cuisine\":\"Thai\"},{\"meal_id\":1993,\"category\":\"Beverages\",\"cuisine\":\"Thai\"},{\"meal_id\":2539,\"category\":\"Beverages\",\"cuisine\":\"Thai\"},{\"meal_id\":1248,\"category\":\"Beverages\",\"cuisine\":\"Indian\"},{\"meal_id\":2631,\"category\":\"Beverages\",\"cuisine\":\"Indian\"},{\"meal_id\":1311,\"category\":\"Extras\",\"cuisine\":\"Thai\"},{\"meal_id\":1062,\"category\":\"Beverages\",\"cuisine\":\"Italian\"},{\"meal_id\":1778,\"category\":\"Beverages\",\"cuisine\":\"Italian\"},{\"meal_id\":1803,\"category\":\"Extras\",\"cuisine\":\"Thai\"},{\"meal_id\":1198,\"category\":\"Extras\",\"cuisine\":\"Thai\"},{\"meal_id\":2707,\"category\":\"Beverages\",\"cuisine\":\"Italian\"},{\"meal_id\":1847,\"category\":\"Soup\",\"cuisine\":\"Thai\"},{\"meal_id\":1438,\"category\":\"Soup\",\"cuisine\":\"Thai\"},{\"meal_id\":2494,\"category\":\"Soup\",\"cuisine\":\"Thai\"},{\"meal_id\":2760,\"category\":\"Other Snacks\",\"cuisine\":\"Thai\"},{\"meal_id\":2490,\"category\":\"Salad\",\"cuisine\":\"Italian\"},{\"meal_id\":1109,\"category\":\"Rice Bowl\",\"cuisine\":\"Indian\"},{\"meal_id\":2290,\"category\":\"Rice Bowl\",\"cuisine\":\"Indian\"},{\"meal_id\":1525,\"category\":\"Other Snacks\",\"cuisine\":\"Thai\"},{\"meal_id\":2704,\"category\":\"Other Snacks\",\"cuisine\":\"Thai\"},{\"meal_id\":1878,\"category\":\"Starters\",\"cuisine\":\"Thai\"},{\"meal_id\":2640,\"category\":\"Starters\",\"cuisine\":\"Thai\"},{\"meal_id\":2577,\"category\":\"Starters\",\"cuisine\":\"Thai\"},{\"meal_id\":1754,\"category\":\"Sandwich\",\"cuisine\":\"Italian\"},{\"meal_id\":1971,\"category\":\"Sandwich\",\"cuisine\":\"Italian\"},{\"meal_id\":2306,\"category\":\"Pasta\",\"cuisine\":\"Italian\"},{\"meal_id\":2139,\"category\":\"Beverages\",\"cuisine\":\"Indian\"},{\"meal_id\":2826,\"category\":\"Sandwich\",\"cuisine\":\"Italian\"},{\"meal_id\":2664,\"category\":\"Salad\",\"cuisine\":\"Italian\"},{\"meal_id\":2569,\"category\":\"Salad\",\"cuisine\":\"Italian\"},{\"meal_id\":1230,\"category\":\"Beverages\",\"cuisine\":\"Continental\"},{\"meal_id\":1207,\"category\":\"Beverages\",\"cuisine\":\"Continental\"},{\"meal_id\":2322,\"category\":\"Beverages\",\"cuisine\":\"Continental\"},{\"meal_id\":2492,\"category\":\"Desert\",\"cuisine\":\"Indian\"},{\"meal_id\":1216,\"category\":\"Pasta\",\"cuisine\":\"Italian\"},{\"meal_id\":1727,\"category\":\"Rice Bowl\",\"cuisine\":\"Indian\"},{\"meal_id\":1902,\"category\":\"Biryani\",\"cuisine\":\"Indian\"},{\"meal_id\":1247,\"category\":\"Biryani\",\"cuisine\":\"Indian\"},{\"meal_id\":2304,\"category\":\"Desert\",\"cuisine\":\"Indian\"},{\"meal_id\":1543,\"category\":\"Desert\",\"cuisine\":\"Indian\"},{\"meal_id\":1770,\"category\":\"Biryani\",\"cuisine\":\"Indian\"},{\"meal_id\":2126,\"category\":\"Pasta\",\"cuisine\":\"Italian\"},{\"meal_id\":1558,\"category\":\"Pizza\",\"cuisine\":\"Continental\"},{\"meal_id\":2581,\"category\":\"Pizza\",\"cuisine\":\"Continental\"},{\"meal_id\":1962,\"category\":\"Pizza\",\"cuisine\":\"Continental\"},{\"meal_id\":1571,\"category\":\"Fish\",\"cuisine\":\"Continental\"},{\"meal_id\":2956,\"category\":\"Fish\",\"cuisine\":\"Continental\"},{\"meal_id\":2104,\"category\":\"Fish\",\"cuisine\":\"Continental\"},{\"meal_id\":2444,\"category\":\"Seafood\",\"cuisine\":\"Continental\"},{\"meal_id\":2867,\"category\":\"Seafood\",\"cuisine\":\"Continental\"},{\"meal_id\":1445,\"category\":\"Seafood\",\"cuisine\":\"Continental\"}]"
   ]
  },
  {
   "cell_type": "code",
   "execution_count": 6,
   "id": "e65345f6",
   "metadata": {},
   "outputs": [],
   "source": [
    "# Insert into meal info [insert_many]\n",
    "result = collection.insert_many(docs)"
   ]
  },
  {
   "cell_type": "code",
   "execution_count": 7,
   "id": "bc1c7846",
   "metadata": {},
   "outputs": [
    {
     "name": "stdout",
     "output_type": "stream",
     "text": [
      "Length:  51\n",
      "60e5a34ad555cc8278e79d5d\n",
      "60e5a34ad555cc8278e79d5e\n",
      "60e5a34ad555cc8278e79d5f\n",
      "60e5a34ad555cc8278e79d60\n",
      "60e5a34ad555cc8278e79d61\n",
      "60e5a34ad555cc8278e79d62\n",
      "60e5a34ad555cc8278e79d63\n",
      "60e5a34ad555cc8278e79d64\n",
      "60e5a34ad555cc8278e79d65\n",
      "60e5a34ad555cc8278e79d66\n",
      "60e5a34ad555cc8278e79d67\n",
      "60e5a34ad555cc8278e79d68\n",
      "60e5a34ad555cc8278e79d69\n",
      "60e5a34ad555cc8278e79d6a\n",
      "60e5a34ad555cc8278e79d6b\n",
      "60e5a34ad555cc8278e79d6c\n",
      "60e5a34ad555cc8278e79d6d\n",
      "60e5a34ad555cc8278e79d6e\n",
      "60e5a34ad555cc8278e79d6f\n",
      "60e5a34ad555cc8278e79d70\n",
      "60e5a34ad555cc8278e79d71\n",
      "60e5a34ad555cc8278e79d72\n",
      "60e5a34ad555cc8278e79d73\n",
      "60e5a34ad555cc8278e79d74\n",
      "60e5a34ad555cc8278e79d75\n",
      "60e5a34ad555cc8278e79d76\n",
      "60e5a34ad555cc8278e79d77\n",
      "60e5a34ad555cc8278e79d78\n",
      "60e5a34ad555cc8278e79d79\n",
      "60e5a34ad555cc8278e79d7a\n",
      "60e5a34ad555cc8278e79d7b\n",
      "60e5a34ad555cc8278e79d7c\n",
      "60e5a34ad555cc8278e79d7d\n",
      "60e5a34ad555cc8278e79d7e\n",
      "60e5a34ad555cc8278e79d7f\n",
      "60e5a34ad555cc8278e79d80\n",
      "60e5a34ad555cc8278e79d81\n",
      "60e5a34ad555cc8278e79d82\n",
      "60e5a34ad555cc8278e79d83\n",
      "60e5a34ad555cc8278e79d84\n",
      "60e5a34ad555cc8278e79d85\n",
      "60e5a34ad555cc8278e79d86\n",
      "60e5a34ad555cc8278e79d87\n",
      "60e5a34ad555cc8278e79d88\n",
      "60e5a34ad555cc8278e79d89\n",
      "60e5a34ad555cc8278e79d8a\n",
      "60e5a34ad555cc8278e79d8b\n",
      "60e5a34ad555cc8278e79d8c\n",
      "60e5a34ad555cc8278e79d8d\n",
      "60e5a34ad555cc8278e79d8e\n",
      "60e5a34ad555cc8278e79d8f\n"
     ]
    }
   ],
   "source": [
    "# Inserted_ids\n",
    "inserted_ids_value = result.inserted_ids\n",
    "print(\"Length: \",len(inserted_ids_value))\n",
    "\n",
    "for i in inserted_ids_value:\n",
    "    print(i)\n",
    "    "
   ]
  },
  {
   "cell_type": "code",
   "execution_count": 8,
   "id": "ddddd4ea",
   "metadata": {},
   "outputs": [],
   "source": [
    "# Insert_one\n",
    "var1 = {\"meal_id\":2,\"category\":\"Extras\",\"cuisine\":\"Thai\"}\n",
    "res = collection.insert_one(var1)"
   ]
  },
  {
   "cell_type": "code",
   "execution_count": 9,
   "id": "813749d8",
   "metadata": {},
   "outputs": [
    {
     "data": {
      "text/plain": [
       "ObjectId('60e5a3ebd555cc8278e79d90')"
      ]
     },
     "execution_count": 9,
     "metadata": {},
     "output_type": "execute_result"
    }
   ],
   "source": [
    "# Inserted -> id...not ids{for a single value}\n",
    "value = res.inserted_id\n",
    "value\n"
   ]
  },
  {
   "cell_type": "code",
   "execution_count": 10,
   "id": "5b7158aa",
   "metadata": {},
   "outputs": [
    {
     "data": {
      "text/plain": [
       "<pymongo.results.DeleteResult at 0x2032b8a8a00>"
      ]
     },
     "execution_count": 10,
     "metadata": {},
     "output_type": "execute_result"
    }
   ],
   "source": [
    "# Delete_one\n",
    "collection.delete_one({'_id':1})"
   ]
  },
  {
   "cell_type": "code",
   "execution_count": 11,
   "id": "d6e06dd7",
   "metadata": {},
   "outputs": [
    {
     "data": {
      "text/plain": [
       "<pymongo.results.DeleteResult at 0x2032b8a18c0>"
      ]
     },
     "execution_count": 11,
     "metadata": {},
     "output_type": "execute_result"
    }
   ],
   "source": [
    "# Delete many\n",
    "collection.delete_many({})"
   ]
  },
  {
   "cell_type": "code",
   "execution_count": 12,
   "id": "11c5d787",
   "metadata": {},
   "outputs": [
    {
     "data": {
      "text/plain": [
       "<pymongo.results.InsertManyResult at 0x2032b89cac0>"
      ]
     },
     "execution_count": 12,
     "metadata": {},
     "output_type": "execute_result"
    }
   ],
   "source": [
    "# To insert the elements again after deleting\n",
    "collection.insert_many(docs)"
   ]
  },
  {
   "cell_type": "code",
   "execution_count": 13,
   "id": "aca7e872",
   "metadata": {},
   "outputs": [
    {
     "data": {
      "text/plain": [
       "[{'_id': ObjectId('60e5a34ad555cc8278e79d8f'),\n",
       "  'meal_id': 1445,\n",
       "  'category': 'Seafood',\n",
       "  'cuisine': 'Continental'},\n",
       " {'_id': ObjectId('60e5a34ad555cc8278e79d8e'),\n",
       "  'meal_id': 2867,\n",
       "  'category': 'Seafood',\n",
       "  'cuisine': 'Continental'},\n",
       " {'_id': ObjectId('60e5a34ad555cc8278e79d8d'),\n",
       "  'meal_id': 2444,\n",
       "  'category': 'Seafood',\n",
       "  'cuisine': 'Continental'},\n",
       " {'_id': ObjectId('60e5a34ad555cc8278e79d8c'),\n",
       "  'meal_id': 2104,\n",
       "  'category': 'Fish',\n",
       "  'cuisine': 'Continental'},\n",
       " {'_id': ObjectId('60e5a34ad555cc8278e79d8b'),\n",
       "  'meal_id': 2956,\n",
       "  'category': 'Fish',\n",
       "  'cuisine': 'Continental'},\n",
       " {'_id': ObjectId('60e5a34ad555cc8278e79d8a'),\n",
       "  'meal_id': 1571,\n",
       "  'category': 'Fish',\n",
       "  'cuisine': 'Continental'},\n",
       " {'_id': ObjectId('60e5a34ad555cc8278e79d89'),\n",
       "  'meal_id': 1962,\n",
       "  'category': 'Pizza',\n",
       "  'cuisine': 'Continental'},\n",
       " {'_id': ObjectId('60e5a34ad555cc8278e79d88'),\n",
       "  'meal_id': 2581,\n",
       "  'category': 'Pizza',\n",
       "  'cuisine': 'Continental'},\n",
       " {'_id': ObjectId('60e5a34ad555cc8278e79d87'),\n",
       "  'meal_id': 1558,\n",
       "  'category': 'Pizza',\n",
       "  'cuisine': 'Continental'},\n",
       " {'_id': ObjectId('60e5a34ad555cc8278e79d86'),\n",
       "  'meal_id': 2126,\n",
       "  'category': 'Pasta',\n",
       "  'cuisine': 'Italian'},\n",
       " {'_id': ObjectId('60e5a34ad555cc8278e79d85'),\n",
       "  'meal_id': 1770,\n",
       "  'category': 'Biryani',\n",
       "  'cuisine': 'Indian'},\n",
       " {'_id': ObjectId('60e5a34ad555cc8278e79d84'),\n",
       "  'meal_id': 1543,\n",
       "  'category': 'Desert',\n",
       "  'cuisine': 'Indian'},\n",
       " {'_id': ObjectId('60e5a34ad555cc8278e79d83'),\n",
       "  'meal_id': 2304,\n",
       "  'category': 'Desert',\n",
       "  'cuisine': 'Indian'},\n",
       " {'_id': ObjectId('60e5a34ad555cc8278e79d82'),\n",
       "  'meal_id': 1247,\n",
       "  'category': 'Biryani',\n",
       "  'cuisine': 'Indian'},\n",
       " {'_id': ObjectId('60e5a34ad555cc8278e79d81'),\n",
       "  'meal_id': 1902,\n",
       "  'category': 'Biryani',\n",
       "  'cuisine': 'Indian'},\n",
       " {'_id': ObjectId('60e5a34ad555cc8278e79d80'),\n",
       "  'meal_id': 1727,\n",
       "  'category': 'Rice Bowl',\n",
       "  'cuisine': 'Indian'},\n",
       " {'_id': ObjectId('60e5a34ad555cc8278e79d7f'),\n",
       "  'meal_id': 1216,\n",
       "  'category': 'Pasta',\n",
       "  'cuisine': 'Italian'},\n",
       " {'_id': ObjectId('60e5a34ad555cc8278e79d7e'),\n",
       "  'meal_id': 2492,\n",
       "  'category': 'Desert',\n",
       "  'cuisine': 'Indian'},\n",
       " {'_id': ObjectId('60e5a34ad555cc8278e79d7d'),\n",
       "  'meal_id': 2322,\n",
       "  'category': 'Beverages',\n",
       "  'cuisine': 'Continental'},\n",
       " {'_id': ObjectId('60e5a34ad555cc8278e79d7c'),\n",
       "  'meal_id': 1207,\n",
       "  'category': 'Beverages',\n",
       "  'cuisine': 'Continental'},\n",
       " {'_id': ObjectId('60e5a34ad555cc8278e79d7b'),\n",
       "  'meal_id': 1230,\n",
       "  'category': 'Beverages',\n",
       "  'cuisine': 'Continental'},\n",
       " {'_id': ObjectId('60e5a34ad555cc8278e79d7a'),\n",
       "  'meal_id': 2569,\n",
       "  'category': 'Salad',\n",
       "  'cuisine': 'Italian'},\n",
       " {'_id': ObjectId('60e5a34ad555cc8278e79d79'),\n",
       "  'meal_id': 2664,\n",
       "  'category': 'Salad',\n",
       "  'cuisine': 'Italian'},\n",
       " {'_id': ObjectId('60e5a34ad555cc8278e79d78'),\n",
       "  'meal_id': 2826,\n",
       "  'category': 'Sandwich',\n",
       "  'cuisine': 'Italian'},\n",
       " {'_id': ObjectId('60e5a34ad555cc8278e79d77'),\n",
       "  'meal_id': 2139,\n",
       "  'category': 'Beverages',\n",
       "  'cuisine': 'Indian'},\n",
       " {'_id': ObjectId('60e5a34ad555cc8278e79d76'),\n",
       "  'meal_id': 2306,\n",
       "  'category': 'Pasta',\n",
       "  'cuisine': 'Italian'},\n",
       " {'_id': ObjectId('60e5a34ad555cc8278e79d75'),\n",
       "  'meal_id': 1971,\n",
       "  'category': 'Sandwich',\n",
       "  'cuisine': 'Italian'},\n",
       " {'_id': ObjectId('60e5a34ad555cc8278e79d74'),\n",
       "  'meal_id': 1754,\n",
       "  'category': 'Sandwich',\n",
       "  'cuisine': 'Italian'},\n",
       " {'_id': ObjectId('60e5a34ad555cc8278e79d73'),\n",
       "  'meal_id': 2577,\n",
       "  'category': 'Starters',\n",
       "  'cuisine': 'Thai'},\n",
       " {'_id': ObjectId('60e5a34ad555cc8278e79d72'),\n",
       "  'meal_id': 2640,\n",
       "  'category': 'Starters',\n",
       "  'cuisine': 'Thai'},\n",
       " {'_id': ObjectId('60e5a34ad555cc8278e79d71'),\n",
       "  'meal_id': 1878,\n",
       "  'category': 'Starters',\n",
       "  'cuisine': 'Thai'},\n",
       " {'_id': ObjectId('60e5a34ad555cc8278e79d70'),\n",
       "  'meal_id': 2704,\n",
       "  'category': 'Other Snacks',\n",
       "  'cuisine': 'Thai'},\n",
       " {'_id': ObjectId('60e5a34ad555cc8278e79d6f'),\n",
       "  'meal_id': 1525,\n",
       "  'category': 'Other Snacks',\n",
       "  'cuisine': 'Thai'},\n",
       " {'_id': ObjectId('60e5a34ad555cc8278e79d6e'),\n",
       "  'meal_id': 2290,\n",
       "  'category': 'Rice Bowl',\n",
       "  'cuisine': 'Indian'},\n",
       " {'_id': ObjectId('60e5a34ad555cc8278e79d6d'),\n",
       "  'meal_id': 1109,\n",
       "  'category': 'Rice Bowl',\n",
       "  'cuisine': 'Indian'},\n",
       " {'_id': ObjectId('60e5a34ad555cc8278e79d6c'),\n",
       "  'meal_id': 2490,\n",
       "  'category': 'Salad',\n",
       "  'cuisine': 'Italian'},\n",
       " {'_id': ObjectId('60e5a34ad555cc8278e79d6b'),\n",
       "  'meal_id': 2760,\n",
       "  'category': 'Other Snacks',\n",
       "  'cuisine': 'Thai'},\n",
       " {'_id': ObjectId('60e5a34ad555cc8278e79d6a'),\n",
       "  'meal_id': 2494,\n",
       "  'category': 'Soup',\n",
       "  'cuisine': 'Thai'},\n",
       " {'_id': ObjectId('60e5a34ad555cc8278e79d69'),\n",
       "  'meal_id': 1438,\n",
       "  'category': 'Soup',\n",
       "  'cuisine': 'Thai'},\n",
       " {'_id': ObjectId('60e5a34ad555cc8278e79d68'),\n",
       "  'meal_id': 1847,\n",
       "  'category': 'Soup',\n",
       "  'cuisine': 'Thai'},\n",
       " {'_id': ObjectId('60e5a34ad555cc8278e79d67'),\n",
       "  'meal_id': 2707,\n",
       "  'category': 'Beverages',\n",
       "  'cuisine': 'Italian'},\n",
       " {'_id': ObjectId('60e5a34ad555cc8278e79d66'),\n",
       "  'meal_id': 1198,\n",
       "  'category': 'Extras',\n",
       "  'cuisine': 'Thai'},\n",
       " {'_id': ObjectId('60e5a34ad555cc8278e79d65'),\n",
       "  'meal_id': 1803,\n",
       "  'category': 'Extras',\n",
       "  'cuisine': 'Thai'},\n",
       " {'_id': ObjectId('60e5a34ad555cc8278e79d64'),\n",
       "  'meal_id': 1778,\n",
       "  'category': 'Beverages',\n",
       "  'cuisine': 'Italian'},\n",
       " {'_id': ObjectId('60e5a34ad555cc8278e79d63'),\n",
       "  'meal_id': 1062,\n",
       "  'category': 'Beverages',\n",
       "  'cuisine': 'Italian'},\n",
       " {'_id': ObjectId('60e5a34ad555cc8278e79d62'),\n",
       "  'meal_id': 1311,\n",
       "  'category': 'Extras',\n",
       "  'cuisine': 'Thai'},\n",
       " {'_id': ObjectId('60e5a34ad555cc8278e79d61'),\n",
       "  'meal_id': 2631,\n",
       "  'category': 'Beverages',\n",
       "  'cuisine': 'Indian'},\n",
       " {'_id': ObjectId('60e5a34ad555cc8278e79d60'),\n",
       "  'meal_id': 1248,\n",
       "  'category': 'Beverages',\n",
       "  'cuisine': 'Indian'},\n",
       " {'_id': ObjectId('60e5a34ad555cc8278e79d5f'),\n",
       "  'meal_id': 2539,\n",
       "  'category': 'Beverages',\n",
       "  'cuisine': 'Thai'},\n",
       " {'_id': ObjectId('60e5a34ad555cc8278e79d5e'),\n",
       "  'meal_id': 1993,\n",
       "  'category': 'Beverages',\n",
       "  'cuisine': 'Thai'},\n",
       " {'_id': ObjectId('60e5a34ad555cc8278e79d5d'),\n",
       "  'meal_id': 1885,\n",
       "  'category': 'Beverages',\n",
       "  'cuisine': 'Thai'}]"
      ]
     },
     "execution_count": 13,
     "metadata": {},
     "output_type": "execute_result"
    }
   ],
   "source": [
    "# Sort\n",
    "[i for i in collection.find().sort(\"_id\",-1)]"
   ]
  },
  {
   "cell_type": "code",
   "execution_count": 28,
   "id": "56a151d2",
   "metadata": {},
   "outputs": [
    {
     "name": "stdout",
     "output_type": "stream",
     "text": [
      "{'_id': ObjectId('60e5a34ad555cc8278e79d5d'), 'meal_id': 1885, 'category': 'Beverages', 'cuisine': 'Thai'}\n",
      "{'_id': ObjectId('60e5a34ad555cc8278e79d5e'), 'meal_id': 1993, 'category': 'Beverages', 'cuisine': 'Thai'}\n",
      "{'_id': ObjectId('60e5a34ad555cc8278e79d5f'), 'meal_id': 2539, 'category': 'Beverages', 'cuisine': 'Thai'}\n",
      "{'_id': ObjectId('60e5a34ad555cc8278e79d60'), 'meal_id': 1248, 'category': 'Beverages', 'cuisine': 'Indian'}\n",
      "{'_id': ObjectId('60e5a34ad555cc8278e79d61'), 'meal_id': 2631, 'category': 'Beverages', 'cuisine': 'Indian'}\n",
      "{'_id': ObjectId('60e5a34ad555cc8278e79d62'), 'meal_id': 1311, 'category': 'Extras', 'cuisine': 'Thai'}\n",
      "{'_id': ObjectId('60e5a34ad555cc8278e79d63'), 'meal_id': 1062, 'category': 'Beverages', 'cuisine': 'Italian'}\n",
      "{'_id': ObjectId('60e5a34ad555cc8278e79d64'), 'meal_id': 1778, 'category': 'Beverages', 'cuisine': 'Italian'}\n",
      "{'_id': ObjectId('60e5a34ad555cc8278e79d65'), 'meal_id': 1803, 'category': 'Extras', 'cuisine': 'Thai'}\n",
      "{'_id': ObjectId('60e5a34ad555cc8278e79d66'), 'meal_id': 1198, 'category': 'Extras', 'cuisine': 'Thai'}\n",
      "{'_id': ObjectId('60e5a34ad555cc8278e79d67'), 'meal_id': 2707, 'category': 'Beverages', 'cuisine': 'Italian'}\n",
      "{'_id': ObjectId('60e5a34ad555cc8278e79d68'), 'meal_id': 1847, 'category': 'Soup', 'cuisine': 'Thai'}\n",
      "{'_id': ObjectId('60e5a34ad555cc8278e79d69'), 'meal_id': 1438, 'category': 'Soup', 'cuisine': 'Thai'}\n",
      "{'_id': ObjectId('60e5a34ad555cc8278e79d6a'), 'meal_id': 2494, 'category': 'Soup', 'cuisine': 'Thai'}\n",
      "{'_id': ObjectId('60e5a34ad555cc8278e79d6b'), 'meal_id': 2760, 'category': 'Other Snacks', 'cuisine': 'Thai'}\n",
      "{'_id': ObjectId('60e5a34ad555cc8278e79d6c'), 'meal_id': 2490, 'category': 'Salad', 'cuisine': 'Italian'}\n",
      "{'_id': ObjectId('60e5a34ad555cc8278e79d6d'), 'meal_id': 1109, 'category': 'Rice Bowl', 'cuisine': 'Indian'}\n",
      "{'_id': ObjectId('60e5a34ad555cc8278e79d6e'), 'meal_id': 2290, 'category': 'Rice Bowl', 'cuisine': 'Indian'}\n",
      "{'_id': ObjectId('60e5a34ad555cc8278e79d6f'), 'meal_id': 1525, 'category': 'Other Snacks', 'cuisine': 'Thai'}\n",
      "{'_id': ObjectId('60e5a34ad555cc8278e79d70'), 'meal_id': 2704, 'category': 'Other Snacks', 'cuisine': 'Thai'}\n",
      "{'_id': ObjectId('60e5a34ad555cc8278e79d71'), 'meal_id': 1878, 'category': 'Starters', 'cuisine': 'Thai'}\n",
      "{'_id': ObjectId('60e5a34ad555cc8278e79d72'), 'meal_id': 2640, 'category': 'Starters', 'cuisine': 'Thai'}\n",
      "{'_id': ObjectId('60e5a34ad555cc8278e79d73'), 'meal_id': 2577, 'category': 'Starters', 'cuisine': 'Thai'}\n",
      "{'_id': ObjectId('60e5a34ad555cc8278e79d74'), 'meal_id': 1754, 'category': 'Sandwich', 'cuisine': 'Italian'}\n",
      "{'_id': ObjectId('60e5a34ad555cc8278e79d75'), 'meal_id': 1971, 'category': 'Sandwich', 'cuisine': 'Italian'}\n",
      "{'_id': ObjectId('60e5a34ad555cc8278e79d76'), 'meal_id': 2306, 'category': 'Pasta', 'cuisine': 'Italian'}\n",
      "{'_id': ObjectId('60e5a34ad555cc8278e79d77'), 'meal_id': 2139, 'category': 'Beverages', 'cuisine': 'Indian'}\n",
      "{'_id': ObjectId('60e5a34ad555cc8278e79d78'), 'meal_id': 2826, 'category': 'Sandwich', 'cuisine': 'Italian'}\n",
      "{'_id': ObjectId('60e5a34ad555cc8278e79d79'), 'meal_id': 2664, 'category': 'Salad', 'cuisine': 'Italian'}\n",
      "{'_id': ObjectId('60e5a34ad555cc8278e79d7a'), 'meal_id': 2569, 'category': 'Salad', 'cuisine': 'Italian'}\n",
      "{'_id': ObjectId('60e5a34ad555cc8278e79d7b'), 'meal_id': 1230, 'category': 'Beverages', 'cuisine': 'Continental'}\n",
      "{'_id': ObjectId('60e5a34ad555cc8278e79d7c'), 'meal_id': 1207, 'category': 'Beverages', 'cuisine': 'Continental'}\n",
      "{'_id': ObjectId('60e5a34ad555cc8278e79d7d'), 'meal_id': 2322, 'category': 'Beverages', 'cuisine': 'Continental'}\n",
      "{'_id': ObjectId('60e5a34ad555cc8278e79d7e'), 'meal_id': 2492, 'category': 'Desert', 'cuisine': 'Indian'}\n",
      "{'_id': ObjectId('60e5a34ad555cc8278e79d7f'), 'meal_id': 1216, 'category': 'Pasta', 'cuisine': 'Italian'}\n",
      "{'_id': ObjectId('60e5a34ad555cc8278e79d80'), 'meal_id': 1727, 'category': 'Rice Bowl', 'cuisine': 'Indian'}\n",
      "{'_id': ObjectId('60e5a34ad555cc8278e79d81'), 'meal_id': 1902, 'category': 'Biryani', 'cuisine': 'Indian'}\n",
      "{'_id': ObjectId('60e5a34ad555cc8278e79d82'), 'meal_id': 1247, 'category': 'Biryani', 'cuisine': 'Indian'}\n",
      "{'_id': ObjectId('60e5a34ad555cc8278e79d83'), 'meal_id': 2304, 'category': 'Desert', 'cuisine': 'Indian'}\n",
      "{'_id': ObjectId('60e5a34ad555cc8278e79d84'), 'meal_id': 1543, 'category': 'Desert', 'cuisine': 'Indian'}\n",
      "{'_id': ObjectId('60e5a34ad555cc8278e79d85'), 'meal_id': 1770, 'category': 'Biryani', 'cuisine': 'Indian'}\n",
      "{'_id': ObjectId('60e5a34ad555cc8278e79d86'), 'meal_id': 2126, 'category': 'Pasta', 'cuisine': 'Italian'}\n",
      "{'_id': ObjectId('60e5a34ad555cc8278e79d87'), 'meal_id': 1558, 'category': 'Pizza', 'cuisine': 'Continental'}\n",
      "{'_id': ObjectId('60e5a34ad555cc8278e79d88'), 'meal_id': 2581, 'category': 'Pizza', 'cuisine': 'Continental'}\n",
      "{'_id': ObjectId('60e5a34ad555cc8278e79d89'), 'meal_id': 1962, 'category': 'Pizza', 'cuisine': 'Continental'}\n",
      "{'_id': ObjectId('60e5a34ad555cc8278e79d8a'), 'meal_id': 1571, 'category': 'Fish', 'cuisine': 'Continental'}\n",
      "{'_id': ObjectId('60e5a34ad555cc8278e79d8b'), 'meal_id': 2956, 'category': 'Fish', 'cuisine': 'Continental'}\n",
      "{'_id': ObjectId('60e5a34ad555cc8278e79d8c'), 'meal_id': 2104, 'category': 'Fish', 'cuisine': 'Continental'}\n",
      "{'_id': ObjectId('60e5a34ad555cc8278e79d8d'), 'meal_id': 2444, 'category': 'Seafood', 'cuisine': 'Continental'}\n",
      "{'_id': ObjectId('60e5a34ad555cc8278e79d8e'), 'meal_id': 2867, 'category': 'Seafood', 'cuisine': 'Continental'}\n",
      "{'_id': ObjectId('60e5a34ad555cc8278e79d8f'), 'meal_id': 1445, 'category': 'Seafood', 'cuisine': 'Continental'}\n"
     ]
    }
   ],
   "source": [
    "result = collection.find().sort(\"_id\",1)\n",
    "for i in result:\n",
    "    print(i)"
   ]
  },
  {
   "cell_type": "code",
   "execution_count": 15,
   "id": "e2fe0044",
   "metadata": {},
   "outputs": [
    {
     "data": {
      "text/plain": [
       "[{'_id': ObjectId('60e5a34ad555cc8278e79d5d'),\n",
       "  'meal_id': 1885,\n",
       "  'category': 'Beverages',\n",
       "  'cuisine': 'Thai'},\n",
       " {'_id': ObjectId('60e5a34ad555cc8278e79d5e'),\n",
       "  'meal_id': 1993,\n",
       "  'category': 'Beverages',\n",
       "  'cuisine': 'Thai'},\n",
       " {'_id': ObjectId('60e5a34ad555cc8278e79d5f'),\n",
       "  'meal_id': 2539,\n",
       "  'category': 'Beverages',\n",
       "  'cuisine': 'Thai'},\n",
       " {'_id': ObjectId('60e5a34ad555cc8278e79d60'),\n",
       "  'meal_id': 1248,\n",
       "  'category': 'Beverages',\n",
       "  'cuisine': 'Indian'},\n",
       " {'_id': ObjectId('60e5a34ad555cc8278e79d61'),\n",
       "  'meal_id': 2631,\n",
       "  'category': 'Beverages',\n",
       "  'cuisine': 'Indian'},\n",
       " {'_id': ObjectId('60e5a34ad555cc8278e79d62'),\n",
       "  'meal_id': 1311,\n",
       "  'category': 'Extras',\n",
       "  'cuisine': 'Thai'},\n",
       " {'_id': ObjectId('60e5a34ad555cc8278e79d63'),\n",
       "  'meal_id': 1062,\n",
       "  'category': 'Beverages',\n",
       "  'cuisine': 'Italian'},\n",
       " {'_id': ObjectId('60e5a34ad555cc8278e79d64'),\n",
       "  'meal_id': 1778,\n",
       "  'category': 'Beverages',\n",
       "  'cuisine': 'Italian'},\n",
       " {'_id': ObjectId('60e5a34ad555cc8278e79d65'),\n",
       "  'meal_id': 1803,\n",
       "  'category': 'Extras',\n",
       "  'cuisine': 'Thai'},\n",
       " {'_id': ObjectId('60e5a34ad555cc8278e79d66'),\n",
       "  'meal_id': 1198,\n",
       "  'category': 'Extras',\n",
       "  'cuisine': 'Thai'},\n",
       " {'_id': ObjectId('60e5a34ad555cc8278e79d67'),\n",
       "  'meal_id': 2707,\n",
       "  'category': 'Beverages',\n",
       "  'cuisine': 'Italian'},\n",
       " {'_id': ObjectId('60e5a34ad555cc8278e79d68'),\n",
       "  'meal_id': 1847,\n",
       "  'category': 'Soup',\n",
       "  'cuisine': 'Thai'},\n",
       " {'_id': ObjectId('60e5a34ad555cc8278e79d69'),\n",
       "  'meal_id': 1438,\n",
       "  'category': 'Soup',\n",
       "  'cuisine': 'Thai'},\n",
       " {'_id': ObjectId('60e5a34ad555cc8278e79d6a'),\n",
       "  'meal_id': 2494,\n",
       "  'category': 'Soup',\n",
       "  'cuisine': 'Thai'},\n",
       " {'_id': ObjectId('60e5a34ad555cc8278e79d6b'),\n",
       "  'meal_id': 2760,\n",
       "  'category': 'Other Snacks',\n",
       "  'cuisine': 'Thai'},\n",
       " {'_id': ObjectId('60e5a34ad555cc8278e79d6c'),\n",
       "  'meal_id': 2490,\n",
       "  'category': 'Salad',\n",
       "  'cuisine': 'Italian'},\n",
       " {'_id': ObjectId('60e5a34ad555cc8278e79d6d'),\n",
       "  'meal_id': 1109,\n",
       "  'category': 'Rice Bowl',\n",
       "  'cuisine': 'Indian'},\n",
       " {'_id': ObjectId('60e5a34ad555cc8278e79d6e'),\n",
       "  'meal_id': 2290,\n",
       "  'category': 'Rice Bowl',\n",
       "  'cuisine': 'Indian'},\n",
       " {'_id': ObjectId('60e5a34ad555cc8278e79d6f'),\n",
       "  'meal_id': 1525,\n",
       "  'category': 'Other Snacks',\n",
       "  'cuisine': 'Thai'},\n",
       " {'_id': ObjectId('60e5a34ad555cc8278e79d70'),\n",
       "  'meal_id': 2704,\n",
       "  'category': 'Other Snacks',\n",
       "  'cuisine': 'Thai'},\n",
       " {'_id': ObjectId('60e5a34ad555cc8278e79d71'),\n",
       "  'meal_id': 1878,\n",
       "  'category': 'Starters',\n",
       "  'cuisine': 'Thai'},\n",
       " {'_id': ObjectId('60e5a34ad555cc8278e79d72'),\n",
       "  'meal_id': 2640,\n",
       "  'category': 'Starters',\n",
       "  'cuisine': 'Thai'},\n",
       " {'_id': ObjectId('60e5a34ad555cc8278e79d73'),\n",
       "  'meal_id': 2577,\n",
       "  'category': 'Starters',\n",
       "  'cuisine': 'Thai'},\n",
       " {'_id': ObjectId('60e5a34ad555cc8278e79d74'),\n",
       "  'meal_id': 1754,\n",
       "  'category': 'Sandwich',\n",
       "  'cuisine': 'Italian'},\n",
       " {'_id': ObjectId('60e5a34ad555cc8278e79d75'),\n",
       "  'meal_id': 1971,\n",
       "  'category': 'Sandwich',\n",
       "  'cuisine': 'Italian'},\n",
       " {'_id': ObjectId('60e5a34ad555cc8278e79d76'),\n",
       "  'meal_id': 2306,\n",
       "  'category': 'Pasta',\n",
       "  'cuisine': 'Italian'},\n",
       " {'_id': ObjectId('60e5a34ad555cc8278e79d77'),\n",
       "  'meal_id': 2139,\n",
       "  'category': 'Beverages',\n",
       "  'cuisine': 'Indian'},\n",
       " {'_id': ObjectId('60e5a34ad555cc8278e79d78'),\n",
       "  'meal_id': 2826,\n",
       "  'category': 'Sandwich',\n",
       "  'cuisine': 'Italian'},\n",
       " {'_id': ObjectId('60e5a34ad555cc8278e79d79'),\n",
       "  'meal_id': 2664,\n",
       "  'category': 'Salad',\n",
       "  'cuisine': 'Italian'},\n",
       " {'_id': ObjectId('60e5a34ad555cc8278e79d7a'),\n",
       "  'meal_id': 2569,\n",
       "  'category': 'Salad',\n",
       "  'cuisine': 'Italian'},\n",
       " {'_id': ObjectId('60e5a34ad555cc8278e79d7b'),\n",
       "  'meal_id': 1230,\n",
       "  'category': 'Beverages',\n",
       "  'cuisine': 'Continental'},\n",
       " {'_id': ObjectId('60e5a34ad555cc8278e79d7c'),\n",
       "  'meal_id': 1207,\n",
       "  'category': 'Beverages',\n",
       "  'cuisine': 'Continental'},\n",
       " {'_id': ObjectId('60e5a34ad555cc8278e79d7d'),\n",
       "  'meal_id': 2322,\n",
       "  'category': 'Beverages',\n",
       "  'cuisine': 'Continental'},\n",
       " {'_id': ObjectId('60e5a34ad555cc8278e79d7e'),\n",
       "  'meal_id': 2492,\n",
       "  'category': 'Desert',\n",
       "  'cuisine': 'Indian'},\n",
       " {'_id': ObjectId('60e5a34ad555cc8278e79d7f'),\n",
       "  'meal_id': 1216,\n",
       "  'category': 'Pasta',\n",
       "  'cuisine': 'Italian'},\n",
       " {'_id': ObjectId('60e5a34ad555cc8278e79d80'),\n",
       "  'meal_id': 1727,\n",
       "  'category': 'Rice Bowl',\n",
       "  'cuisine': 'Indian'},\n",
       " {'_id': ObjectId('60e5a34ad555cc8278e79d81'),\n",
       "  'meal_id': 1902,\n",
       "  'category': 'Biryani',\n",
       "  'cuisine': 'Indian'},\n",
       " {'_id': ObjectId('60e5a34ad555cc8278e79d82'),\n",
       "  'meal_id': 1247,\n",
       "  'category': 'Biryani',\n",
       "  'cuisine': 'Indian'},\n",
       " {'_id': ObjectId('60e5a34ad555cc8278e79d83'),\n",
       "  'meal_id': 2304,\n",
       "  'category': 'Desert',\n",
       "  'cuisine': 'Indian'},\n",
       " {'_id': ObjectId('60e5a34ad555cc8278e79d84'),\n",
       "  'meal_id': 1543,\n",
       "  'category': 'Desert',\n",
       "  'cuisine': 'Indian'},\n",
       " {'_id': ObjectId('60e5a34ad555cc8278e79d85'),\n",
       "  'meal_id': 1770,\n",
       "  'category': 'Biryani',\n",
       "  'cuisine': 'Indian'},\n",
       " {'_id': ObjectId('60e5a34ad555cc8278e79d86'),\n",
       "  'meal_id': 2126,\n",
       "  'category': 'Pasta',\n",
       "  'cuisine': 'Italian'},\n",
       " {'_id': ObjectId('60e5a34ad555cc8278e79d87'),\n",
       "  'meal_id': 1558,\n",
       "  'category': 'Pizza',\n",
       "  'cuisine': 'Continental'},\n",
       " {'_id': ObjectId('60e5a34ad555cc8278e79d88'),\n",
       "  'meal_id': 2581,\n",
       "  'category': 'Pizza',\n",
       "  'cuisine': 'Continental'},\n",
       " {'_id': ObjectId('60e5a34ad555cc8278e79d89'),\n",
       "  'meal_id': 1962,\n",
       "  'category': 'Pizza',\n",
       "  'cuisine': 'Continental'},\n",
       " {'_id': ObjectId('60e5a34ad555cc8278e79d8a'),\n",
       "  'meal_id': 1571,\n",
       "  'category': 'Fish',\n",
       "  'cuisine': 'Continental'},\n",
       " {'_id': ObjectId('60e5a34ad555cc8278e79d8b'),\n",
       "  'meal_id': 2956,\n",
       "  'category': 'Fish',\n",
       "  'cuisine': 'Continental'},\n",
       " {'_id': ObjectId('60e5a34ad555cc8278e79d8c'),\n",
       "  'meal_id': 2104,\n",
       "  'category': 'Fish',\n",
       "  'cuisine': 'Continental'},\n",
       " {'_id': ObjectId('60e5a34ad555cc8278e79d8d'),\n",
       "  'meal_id': 2444,\n",
       "  'category': 'Seafood',\n",
       "  'cuisine': 'Continental'},\n",
       " {'_id': ObjectId('60e5a34ad555cc8278e79d8e'),\n",
       "  'meal_id': 2867,\n",
       "  'category': 'Seafood',\n",
       "  'cuisine': 'Continental'},\n",
       " {'_id': ObjectId('60e5a34ad555cc8278e79d8f'),\n",
       "  'meal_id': 1445,\n",
       "  'category': 'Seafood',\n",
       "  'cuisine': 'Continental'}]"
      ]
     },
     "execution_count": 15,
     "metadata": {},
     "output_type": "execute_result"
    }
   ],
   "source": [
    "# Find\n",
    "[i for i in collection.find()]"
   ]
  },
  {
   "cell_type": "code",
   "execution_count": 26,
   "id": "5d2d324c",
   "metadata": {},
   "outputs": [
    {
     "data": {
      "text/plain": [
       "{'_id': ObjectId('60e5a34ad555cc8278e79d62'),\n",
       " 'meal_id': 1311,\n",
       " 'category': 'Extras',\n",
       " 'cuisine': 'Thai'}"
      ]
     },
     "execution_count": 26,
     "metadata": {},
     "output_type": "execute_result"
    }
   ],
   "source": [
    "# Find_one\n",
    "collection.find_one({\"category\":\"Extras\"})"
   ]
  },
  {
   "cell_type": "code",
   "execution_count": 22,
   "id": "3ad217a8",
   "metadata": {},
   "outputs": [
    {
     "data": {
      "text/plain": [
       "<pymongo.results.UpdateResult at 0x2032b8f6480>"
      ]
     },
     "execution_count": 22,
     "metadata": {},
     "output_type": "execute_result"
    }
   ],
   "source": [
    "# Update_many\n",
    "var2 = {'meal_id': 240, 'category': 'Snacks', 'cuisine': 'Italian'}\n",
    "collection.update_many({\"meal_id\":24},{\"$set\":var2})"
   ]
  },
  {
   "cell_type": "code",
   "execution_count": 21,
   "id": "c611a849",
   "metadata": {},
   "outputs": [
    {
     "data": {
      "text/plain": [
       "<pymongo.results.UpdateResult at 0x2032b2b0580>"
      ]
     },
     "execution_count": 21,
     "metadata": {},
     "output_type": "execute_result"
    }
   ],
   "source": [
    "# Update_one\n",
    "var3 = {'meal_id': 249, 'category': 'Snacks', 'cuisine': 'Italian'}\n",
    "collection.update_one({\"meal_id\":240},{\"$set\":var3})"
   ]
  },
  {
   "cell_type": "code",
   "execution_count": 20,
   "id": "604870de",
   "metadata": {},
   "outputs": [
    {
     "name": "stdout",
     "output_type": "stream",
     "text": [
      "{'_id': ObjectId('60e5a34ad555cc8278e79d5d'), 'meal_id': 1885, 'category': 'Beverages', 'cuisine': 'Thai'}\n",
      "{'_id': ObjectId('60e5a34ad555cc8278e79d5e'), 'meal_id': 1993, 'category': 'Beverages', 'cuisine': 'Thai'}\n",
      "{'_id': ObjectId('60e5a34ad555cc8278e79d5f'), 'meal_id': 2539, 'category': 'Beverages', 'cuisine': 'Thai'}\n",
      "{'_id': ObjectId('60e5a34ad555cc8278e79d60'), 'meal_id': 1248, 'category': 'Beverages', 'cuisine': 'Indian'}\n",
      "{'_id': ObjectId('60e5a34ad555cc8278e79d61'), 'meal_id': 2631, 'category': 'Beverages', 'cuisine': 'Indian'}\n",
      "{'_id': ObjectId('60e5a34ad555cc8278e79d62'), 'meal_id': 1311, 'category': 'Extras', 'cuisine': 'Thai'}\n",
      "{'_id': ObjectId('60e5a34ad555cc8278e79d63'), 'meal_id': 1062, 'category': 'Beverages', 'cuisine': 'Italian'}\n",
      "{'_id': ObjectId('60e5a34ad555cc8278e79d64'), 'meal_id': 1778, 'category': 'Beverages', 'cuisine': 'Italian'}\n",
      "{'_id': ObjectId('60e5a34ad555cc8278e79d65'), 'meal_id': 1803, 'category': 'Extras', 'cuisine': 'Thai'}\n",
      "{'_id': ObjectId('60e5a34ad555cc8278e79d66'), 'meal_id': 1198, 'category': 'Extras', 'cuisine': 'Thai'}\n"
     ]
    }
   ],
   "source": [
    "# Limit\n",
    "result = collection.find().limit(10)\n",
    "for i in result:\n",
    "    print(i)"
   ]
  },
  {
   "cell_type": "code",
   "execution_count": 29,
   "id": "0dbe4286",
   "metadata": {},
   "outputs": [
    {
     "data": {
      "text/plain": [
       "{'_id': ObjectId('60e5a34ad555cc8278e79d5d'),\n",
       " 'meal_id': 1885,\n",
       " 'category': 'Beverages',\n",
       " 'cuisine': 'Thai'}"
      ]
     },
     "execution_count": 29,
     "metadata": {},
     "output_type": "execute_result"
    }
   ],
   "source": [
    "collection.find_one()"
   ]
  },
  {
   "cell_type": "code",
   "execution_count": 33,
   "id": "7cff6f14",
   "metadata": {},
   "outputs": [
    {
     "ename": "TypeError",
     "evalue": "'Collection' object is not callable. If you meant to call the 'find_many' method on a 'Collection' object it is failing because no such method exists.",
     "output_type": "error",
     "traceback": [
      "\u001b[1;31m---------------------------------------------------------------------------\u001b[0m",
      "\u001b[1;31mTypeError\u001b[0m                                 Traceback (most recent call last)",
      "\u001b[1;32m<ipython-input-33-eaab9fef1274>\u001b[0m in \u001b[0;36m<module>\u001b[1;34m\u001b[0m\n\u001b[1;32m----> 1\u001b[1;33m \u001b[0mcollection\u001b[0m\u001b[1;33m.\u001b[0m\u001b[0mfind_many\u001b[0m\u001b[1;33m(\u001b[0m\u001b[0mdocs\u001b[0m\u001b[1;33m)\u001b[0m\u001b[1;33m\u001b[0m\u001b[1;33m\u001b[0m\u001b[0m\n\u001b[0m",
      "\u001b[1;32m~\\anaconda3\\lib\\site-packages\\pymongo\\collection.py\u001b[0m in \u001b[0;36m__call__\u001b[1;34m(self, *args, **kwargs)\u001b[0m\n\u001b[0;32m   3443\u001b[0m                             \u001b[1;34m\"exists.\"\u001b[0m \u001b[1;33m%\u001b[0m\u001b[1;33m\u001b[0m\u001b[1;33m\u001b[0m\u001b[0m\n\u001b[0;32m   3444\u001b[0m                             self.__name)\n\u001b[1;32m-> 3445\u001b[1;33m         raise TypeError(\"'Collection' object is not callable. If you meant to \"\n\u001b[0m\u001b[0;32m   3446\u001b[0m                         \u001b[1;34m\"call the '%s' method on a 'Collection' object it is \"\u001b[0m\u001b[1;33m\u001b[0m\u001b[1;33m\u001b[0m\u001b[0m\n\u001b[0;32m   3447\u001b[0m                         \u001b[1;34m\"failing because no such method exists.\"\u001b[0m \u001b[1;33m%\u001b[0m\u001b[1;33m\u001b[0m\u001b[1;33m\u001b[0m\u001b[0m\n",
      "\u001b[1;31mTypeError\u001b[0m: 'Collection' object is not callable. If you meant to call the 'find_many' method on a 'Collection' object it is failing because no such method exists."
     ]
    }
   ],
   "source": [
    "collection.find_many(docs)"
   ]
  },
  {
   "cell_type": "code",
   "execution_count": 35,
   "id": "489f6a63",
   "metadata": {},
   "outputs": [
    {
     "ename": "BulkWriteError",
     "evalue": "batch op errors occurred, full error: {'writeErrors': [{'index': 0, 'code': 11000, 'keyPattern': {'_id': 1}, 'keyValue': {'_id': ObjectId('60e5a34ad555cc8278e79d5d')}, 'errmsg': \"E11000 duplicate key error collection: Project_0.Meal Info index: _id_ dup key: { _id: ObjectId('60e5a34ad555cc8278e79d5d') }\", 'op': {'meal_id': 1885, 'category': 'Beverages', 'cuisine': 'Thai', '_id': ObjectId('60e5a34ad555cc8278e79d5d')}}], 'writeConcernErrors': [], 'nInserted': 0, 'nUpserted': 0, 'nMatched': 0, 'nModified': 0, 'nRemoved': 0, 'upserted': []}",
     "output_type": "error",
     "traceback": [
      "\u001b[1;31m---------------------------------------------------------------------------\u001b[0m",
      "\u001b[1;31mBulkWriteError\u001b[0m                            Traceback (most recent call last)",
      "\u001b[1;32m<ipython-input-35-7fcf36d28a65>\u001b[0m in \u001b[0;36m<module>\u001b[1;34m\u001b[0m\n\u001b[1;32m----> 1\u001b[1;33m \u001b[0mresult\u001b[0m\u001b[1;33m=\u001b[0m\u001b[0mcollection\u001b[0m\u001b[1;33m.\u001b[0m\u001b[0minsert_many\u001b[0m\u001b[1;33m(\u001b[0m\u001b[0mdocs\u001b[0m\u001b[1;33m)\u001b[0m\u001b[1;33m\u001b[0m\u001b[1;33m\u001b[0m\u001b[0m\n\u001b[0m",
      "\u001b[1;32m~\\anaconda3\\lib\\site-packages\\pymongo\\collection.py\u001b[0m in \u001b[0;36minsert_many\u001b[1;34m(self, documents, ordered, bypass_document_validation, session)\u001b[0m\n\u001b[0;32m    759\u001b[0m         \u001b[0mblk\u001b[0m \u001b[1;33m=\u001b[0m \u001b[0m_Bulk\u001b[0m\u001b[1;33m(\u001b[0m\u001b[0mself\u001b[0m\u001b[1;33m,\u001b[0m \u001b[0mordered\u001b[0m\u001b[1;33m,\u001b[0m \u001b[0mbypass_document_validation\u001b[0m\u001b[1;33m)\u001b[0m\u001b[1;33m\u001b[0m\u001b[1;33m\u001b[0m\u001b[0m\n\u001b[0;32m    760\u001b[0m         \u001b[0mblk\u001b[0m\u001b[1;33m.\u001b[0m\u001b[0mops\u001b[0m \u001b[1;33m=\u001b[0m \u001b[1;33m[\u001b[0m\u001b[0mdoc\u001b[0m \u001b[1;32mfor\u001b[0m \u001b[0mdoc\u001b[0m \u001b[1;32min\u001b[0m \u001b[0mgen\u001b[0m\u001b[1;33m(\u001b[0m\u001b[1;33m)\u001b[0m\u001b[1;33m]\u001b[0m\u001b[1;33m\u001b[0m\u001b[1;33m\u001b[0m\u001b[0m\n\u001b[1;32m--> 761\u001b[1;33m         \u001b[0mblk\u001b[0m\u001b[1;33m.\u001b[0m\u001b[0mexecute\u001b[0m\u001b[1;33m(\u001b[0m\u001b[0mwrite_concern\u001b[0m\u001b[1;33m,\u001b[0m \u001b[0msession\u001b[0m\u001b[1;33m=\u001b[0m\u001b[0msession\u001b[0m\u001b[1;33m)\u001b[0m\u001b[1;33m\u001b[0m\u001b[1;33m\u001b[0m\u001b[0m\n\u001b[0m\u001b[0;32m    762\u001b[0m         \u001b[1;32mreturn\u001b[0m \u001b[0mInsertManyResult\u001b[0m\u001b[1;33m(\u001b[0m\u001b[0minserted_ids\u001b[0m\u001b[1;33m,\u001b[0m \u001b[0mwrite_concern\u001b[0m\u001b[1;33m.\u001b[0m\u001b[0macknowledged\u001b[0m\u001b[1;33m)\u001b[0m\u001b[1;33m\u001b[0m\u001b[1;33m\u001b[0m\u001b[0m\n\u001b[0;32m    763\u001b[0m \u001b[1;33m\u001b[0m\u001b[0m\n",
      "\u001b[1;32m~\\anaconda3\\lib\\site-packages\\pymongo\\bulk.py\u001b[0m in \u001b[0;36mexecute\u001b[1;34m(self, write_concern, session)\u001b[0m\n\u001b[0;32m    526\u001b[0m                 \u001b[0mself\u001b[0m\u001b[1;33m.\u001b[0m\u001b[0mexecute_no_results\u001b[0m\u001b[1;33m(\u001b[0m\u001b[0msock_info\u001b[0m\u001b[1;33m,\u001b[0m \u001b[0mgenerator\u001b[0m\u001b[1;33m)\u001b[0m\u001b[1;33m\u001b[0m\u001b[1;33m\u001b[0m\u001b[0m\n\u001b[0;32m    527\u001b[0m         \u001b[1;32melse\u001b[0m\u001b[1;33m:\u001b[0m\u001b[1;33m\u001b[0m\u001b[1;33m\u001b[0m\u001b[0m\n\u001b[1;32m--> 528\u001b[1;33m             \u001b[1;32mreturn\u001b[0m \u001b[0mself\u001b[0m\u001b[1;33m.\u001b[0m\u001b[0mexecute_command\u001b[0m\u001b[1;33m(\u001b[0m\u001b[0mgenerator\u001b[0m\u001b[1;33m,\u001b[0m \u001b[0mwrite_concern\u001b[0m\u001b[1;33m,\u001b[0m \u001b[0msession\u001b[0m\u001b[1;33m)\u001b[0m\u001b[1;33m\u001b[0m\u001b[1;33m\u001b[0m\u001b[0m\n\u001b[0m\u001b[0;32m    529\u001b[0m \u001b[1;33m\u001b[0m\u001b[0m\n\u001b[0;32m    530\u001b[0m \u001b[1;33m\u001b[0m\u001b[0m\n",
      "\u001b[1;32m~\\anaconda3\\lib\\site-packages\\pymongo\\bulk.py\u001b[0m in \u001b[0;36mexecute_command\u001b[1;34m(self, generator, write_concern, session)\u001b[0m\n\u001b[0;32m    361\u001b[0m \u001b[1;33m\u001b[0m\u001b[0m\n\u001b[0;32m    362\u001b[0m         \u001b[1;32mif\u001b[0m \u001b[0mfull_result\u001b[0m\u001b[1;33m[\u001b[0m\u001b[1;34m\"writeErrors\"\u001b[0m\u001b[1;33m]\u001b[0m \u001b[1;32mor\u001b[0m \u001b[0mfull_result\u001b[0m\u001b[1;33m[\u001b[0m\u001b[1;34m\"writeConcernErrors\"\u001b[0m\u001b[1;33m]\u001b[0m\u001b[1;33m:\u001b[0m\u001b[1;33m\u001b[0m\u001b[1;33m\u001b[0m\u001b[0m\n\u001b[1;32m--> 363\u001b[1;33m             \u001b[0m_raise_bulk_write_error\u001b[0m\u001b[1;33m(\u001b[0m\u001b[0mfull_result\u001b[0m\u001b[1;33m)\u001b[0m\u001b[1;33m\u001b[0m\u001b[1;33m\u001b[0m\u001b[0m\n\u001b[0m\u001b[0;32m    364\u001b[0m         \u001b[1;32mreturn\u001b[0m \u001b[0mfull_result\u001b[0m\u001b[1;33m\u001b[0m\u001b[1;33m\u001b[0m\u001b[0m\n\u001b[0;32m    365\u001b[0m \u001b[1;33m\u001b[0m\u001b[0m\n",
      "\u001b[1;32m~\\anaconda3\\lib\\site-packages\\pymongo\\bulk.py\u001b[0m in \u001b[0;36m_raise_bulk_write_error\u001b[1;34m(full_result)\u001b[0m\n\u001b[0;32m    138\u001b[0m         full_result[\"writeErrors\"].sort(\n\u001b[0;32m    139\u001b[0m             key=lambda error: error[\"index\"])\n\u001b[1;32m--> 140\u001b[1;33m     \u001b[1;32mraise\u001b[0m \u001b[0mBulkWriteError\u001b[0m\u001b[1;33m(\u001b[0m\u001b[0mfull_result\u001b[0m\u001b[1;33m)\u001b[0m\u001b[1;33m\u001b[0m\u001b[1;33m\u001b[0m\u001b[0m\n\u001b[0m\u001b[0;32m    141\u001b[0m \u001b[1;33m\u001b[0m\u001b[0m\n\u001b[0;32m    142\u001b[0m \u001b[1;33m\u001b[0m\u001b[0m\n",
      "\u001b[1;31mBulkWriteError\u001b[0m: batch op errors occurred, full error: {'writeErrors': [{'index': 0, 'code': 11000, 'keyPattern': {'_id': 1}, 'keyValue': {'_id': ObjectId('60e5a34ad555cc8278e79d5d')}, 'errmsg': \"E11000 duplicate key error collection: Project_0.Meal Info index: _id_ dup key: { _id: ObjectId('60e5a34ad555cc8278e79d5d') }\", 'op': {'meal_id': 1885, 'category': 'Beverages', 'cuisine': 'Thai', '_id': ObjectId('60e5a34ad555cc8278e79d5d')}}], 'writeConcernErrors': [], 'nInserted': 0, 'nUpserted': 0, 'nMatched': 0, 'nModified': 0, 'nRemoved': 0, 'upserted': []}"
     ]
    }
   ],
   "source": [
    "result=collection.insert_many(docs)"
   ]
  },
  {
   "cell_type": "code",
   "execution_count": 36,
   "id": "5e231760",
   "metadata": {},
   "outputs": [],
   "source": [
    "var4= {\"meal_id\":3,\"category\":\"Extras\",\"cuisine\":\"Thai\"}\n",
    "res = collection.insert_one(var4)"
   ]
  },
  {
   "cell_type": "code",
   "execution_count": null,
   "id": "585480f0",
   "metadata": {},
   "outputs": [],
   "source": []
  }
 ],
 "metadata": {
  "kernelspec": {
   "display_name": "Python 3",
   "language": "python",
   "name": "python3"
  },
  "language_info": {
   "codemirror_mode": {
    "name": "ipython",
    "version": 3
   },
   "file_extension": ".py",
   "mimetype": "text/x-python",
   "name": "python",
   "nbconvert_exporter": "python",
   "pygments_lexer": "ipython3",
   "version": "3.8.8"
  }
 },
 "nbformat": 4,
 "nbformat_minor": 5
}
