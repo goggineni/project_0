{
 "cells": [
  {
   "cell_type": "code",
   "execution_count": 25,
   "id": "a4d8ea5f",
   "metadata": {},
   "outputs": [],
   "source": [
    "import json\n",
    "import pprint\n",
    "import warnings\n",
    "warnings.filterwarnings(\"ignore\")"
   ]
  },
  {
   "cell_type": "code",
   "execution_count": 26,
   "id": "7224e90b",
   "metadata": {},
   "outputs": [],
   "source": [
    "# Connection to MongoDB instance\n",
    "import pymongo\n",
    "from pymongo import MongoClient"
   ]
  },
  {
   "cell_type": "code",
   "execution_count": 27,
   "id": "2175356f",
   "metadata": {},
   "outputs": [],
   "source": [
    "# Estabilishing a connection\n",
    "client = pymongo.MongoClient(\"localhost\",27017)"
   ]
  },
  {
   "cell_type": "code",
   "execution_count": 28,
   "id": "d0996401",
   "metadata": {},
   "outputs": [],
   "source": [
    "# Creating a database\n",
    "database = client[\"Project0\"]"
   ]
  },
  {
   "cell_type": "code",
   "execution_count": 29,
   "id": "1125275f",
   "metadata": {},
   "outputs": [],
   "source": [
    "# Creating a collection\n",
    "collection = database[\"Meal Info\"]"
   ]
  },
  {
   "cell_type": "code",
   "execution_count": 5,
   "id": "db54fabb",
   "metadata": {},
   "outputs": [],
   "source": [
    "docs = [{\"meal_id\":1885,\"category\":\"Beverages\",\"cuisine\":\"Thai\"},{\"meal_id\":1993,\"category\":\"Beverages\",\"cuisine\":\"Thai\"},{\"meal_id\":2539,\"category\":\"Beverages\",\"cuisine\":\"Thai\"},{\"meal_id\":1248,\"category\":\"Beverages\",\"cuisine\":\"Indian\"},{\"meal_id\":2631,\"category\":\"Beverages\",\"cuisine\":\"Indian\"},{\"meal_id\":1311,\"category\":\"Extras\",\"cuisine\":\"Thai\"},{\"meal_id\":1062,\"category\":\"Beverages\",\"cuisine\":\"Italian\"},{\"meal_id\":1778,\"category\":\"Beverages\",\"cuisine\":\"Italian\"},{\"meal_id\":1803,\"category\":\"Extras\",\"cuisine\":\"Thai\"},{\"meal_id\":1198,\"category\":\"Extras\",\"cuisine\":\"Thai\"},{\"meal_id\":2707,\"category\":\"Beverages\",\"cuisine\":\"Italian\"},{\"meal_id\":1847,\"category\":\"Soup\",\"cuisine\":\"Thai\"},{\"meal_id\":1438,\"category\":\"Soup\",\"cuisine\":\"Thai\"},{\"meal_id\":2494,\"category\":\"Soup\",\"cuisine\":\"Thai\"},{\"meal_id\":2760,\"category\":\"Other Snacks\",\"cuisine\":\"Thai\"},{\"meal_id\":2490,\"category\":\"Salad\",\"cuisine\":\"Italian\"},{\"meal_id\":1109,\"category\":\"Rice Bowl\",\"cuisine\":\"Indian\"},{\"meal_id\":2290,\"category\":\"Rice Bowl\",\"cuisine\":\"Indian\"},{\"meal_id\":1525,\"category\":\"Other Snacks\",\"cuisine\":\"Thai\"},{\"meal_id\":2704,\"category\":\"Other Snacks\",\"cuisine\":\"Thai\"},{\"meal_id\":1878,\"category\":\"Starters\",\"cuisine\":\"Thai\"},{\"meal_id\":2640,\"category\":\"Starters\",\"cuisine\":\"Thai\"},{\"meal_id\":2577,\"category\":\"Starters\",\"cuisine\":\"Thai\"},{\"meal_id\":1754,\"category\":\"Sandwich\",\"cuisine\":\"Italian\"},{\"meal_id\":1971,\"category\":\"Sandwich\",\"cuisine\":\"Italian\"},{\"meal_id\":2306,\"category\":\"Pasta\",\"cuisine\":\"Italian\"},{\"meal_id\":2139,\"category\":\"Beverages\",\"cuisine\":\"Indian\"},{\"meal_id\":2826,\"category\":\"Sandwich\",\"cuisine\":\"Italian\"},{\"meal_id\":2664,\"category\":\"Salad\",\"cuisine\":\"Italian\"},{\"meal_id\":2569,\"category\":\"Salad\",\"cuisine\":\"Italian\"},{\"meal_id\":1230,\"category\":\"Beverages\",\"cuisine\":\"Continental\"},{\"meal_id\":1207,\"category\":\"Beverages\",\"cuisine\":\"Continental\"},{\"meal_id\":2322,\"category\":\"Beverages\",\"cuisine\":\"Continental\"},{\"meal_id\":2492,\"category\":\"Desert\",\"cuisine\":\"Indian\"},{\"meal_id\":1216,\"category\":\"Pasta\",\"cuisine\":\"Italian\"},{\"meal_id\":1727,\"category\":\"Rice Bowl\",\"cuisine\":\"Indian\"},{\"meal_id\":1902,\"category\":\"Biryani\",\"cuisine\":\"Indian\"},{\"meal_id\":1247,\"category\":\"Biryani\",\"cuisine\":\"Indian\"},{\"meal_id\":2304,\"category\":\"Desert\",\"cuisine\":\"Indian\"},{\"meal_id\":1543,\"category\":\"Desert\",\"cuisine\":\"Indian\"},{\"meal_id\":1770,\"category\":\"Biryani\",\"cuisine\":\"Indian\"},{\"meal_id\":2126,\"category\":\"Pasta\",\"cuisine\":\"Italian\"},{\"meal_id\":1558,\"category\":\"Pizza\",\"cuisine\":\"Continental\"},{\"meal_id\":2581,\"category\":\"Pizza\",\"cuisine\":\"Continental\"},{\"meal_id\":1962,\"category\":\"Pizza\",\"cuisine\":\"Continental\"},{\"meal_id\":1571,\"category\":\"Fish\",\"cuisine\":\"Continental\"},{\"meal_id\":2956,\"category\":\"Fish\",\"cuisine\":\"Continental\"},{\"meal_id\":2104,\"category\":\"Fish\",\"cuisine\":\"Continental\"},{\"meal_id\":2444,\"category\":\"Seafood\",\"cuisine\":\"Continental\"},{\"meal_id\":2867,\"category\":\"Seafood\",\"cuisine\":\"Continental\"},{\"meal_id\":1445,\"category\":\"Seafood\",\"cuisine\":\"Continental\"}]"
   ]
  },
  {
   "cell_type": "code",
   "execution_count": 30,
   "id": "b40e6c8d",
   "metadata": {},
   "outputs": [
    {
     "data": {
      "text/plain": [
       "<pymongo.results.InsertManyResult at 0x1b9526f8640>"
      ]
     },
     "execution_count": 30,
     "metadata": {},
     "output_type": "execute_result"
    }
   ],
   "source": [
    "# insert_many\n",
    "database.project0.insert_many(docs)"
   ]
  },
  {
   "cell_type": "code",
   "execution_count": 10,
   "id": "bc0a93e2",
   "metadata": {},
   "outputs": [
    {
     "data": {
      "text/plain": [
       "<pymongo.results.InsertOneResult at 0x1b952d29a80>"
      ]
     },
     "execution_count": 10,
     "metadata": {},
     "output_type": "execute_result"
    }
   ],
   "source": [
    "#insert_one\n",
    "record={\"meal_id\":20000,\"category\":\"sandwich\",\"cuisine\":\"Indian\"}\n",
    "database.project0.insert_one(record)"
   ]
  },
  {
   "cell_type": "code",
   "execution_count": 11,
   "id": "c9c05899",
   "metadata": {},
   "outputs": [
    {
     "data": {
      "text/plain": [
       "<pymongo.results.DeleteResult at 0x1b952d2afc0>"
      ]
     },
     "execution_count": 11,
     "metadata": {},
     "output_type": "execute_result"
    }
   ],
   "source": [
    "#delete\n",
    "delete = {\"meal_id\":1445,\"category\":\"Seafood\",\"cuisine\":\"Continental\"}\n",
    "database.project0.delete_one(delete)"
   ]
  },
  {
   "cell_type": "code",
   "execution_count": 12,
   "id": "5088fd80",
   "metadata": {},
   "outputs": [
    {
     "data": {
      "text/plain": [
       "<pymongo.cursor.Cursor at 0x1b952d047f0>"
      ]
     },
     "execution_count": 12,
     "metadata": {},
     "output_type": "execute_result"
    }
   ],
   "source": [
    "#find\n",
    "database.project0.find()"
   ]
  },
  {
   "cell_type": "code",
   "execution_count": 14,
   "id": "f24080bd",
   "metadata": {},
   "outputs": [
    {
     "data": {
      "text/plain": [
       "<pymongo.cursor.Cursor at 0x1b952d9ba00>"
      ]
     },
     "execution_count": 14,
     "metadata": {},
     "output_type": "execute_result"
    }
   ],
   "source": [
    "#find()\n",
    "database.project0.find({\"cuisine\":\"Continental\"})"
   ]
  },
  {
   "cell_type": "code",
   "execution_count": 15,
   "id": "a9d3d8a0",
   "metadata": {},
   "outputs": [
    {
     "data": {
      "text/plain": [
       "<pymongo.cursor.Cursor at 0x1b952d9b6a0>"
      ]
     },
     "execution_count": 15,
     "metadata": {},
     "output_type": "execute_result"
    }
   ],
   "source": [
    "#sort\n",
    "database.project0.find().sort(\"_id\",4)\n"
   ]
  },
  {
   "cell_type": "code",
   "execution_count": 16,
   "id": "e87baea3",
   "metadata": {},
   "outputs": [
    {
     "data": {
      "text/plain": [
       "<pymongo.cursor.Cursor at 0x1b952d9b910>"
      ]
     },
     "execution_count": 16,
     "metadata": {},
     "output_type": "execute_result"
    }
   ],
   "source": [
    "#limit\n",
    "database.project0.find().limit(5)"
   ]
  },
  {
   "cell_type": "code",
   "execution_count": 19,
   "id": "6e026485",
   "metadata": {},
   "outputs": [
    {
     "data": {
      "text/plain": [
       "<pymongo.results.UpdateResult at 0x1b952d27f40>"
      ]
     },
     "execution_count": 19,
     "metadata": {},
     "output_type": "execute_result"
    }
   ],
   "source": [
    "#update_many\n",
    "rec= {\"meal_id\":1247,\"category\":\"Biryani\",\"cuisine\":\"Indian\"}\n",
    "database.project0.update_many({\"meal_id\":68},{\"$set\":rec})\n",
    "\n"
   ]
  },
  {
   "cell_type": "code",
   "execution_count": null,
   "id": "abe73a1f",
   "metadata": {},
   "outputs": [],
   "source": []
  }
 ],
 "metadata": {
  "kernelspec": {
   "display_name": "Python 3",
   "language": "python",
   "name": "python3"
  },
  "language_info": {
   "codemirror_mode": {
    "name": "ipython",
    "version": 3
   },
   "file_extension": ".py",
   "mimetype": "text/x-python",
   "name": "python",
   "nbconvert_exporter": "python",
   "pygments_lexer": "ipython3",
   "version": "3.8.8"
  }
 },
 "nbformat": 4,
 "nbformat_minor": 5
}
